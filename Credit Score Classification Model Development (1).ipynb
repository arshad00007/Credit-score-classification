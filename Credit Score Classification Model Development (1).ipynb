{
 "cells": [
  {
   "cell_type": "code",
   "execution_count": 1,
   "id": "3bc329dd",
   "metadata": {},
   "outputs": [],
   "source": [
    "import numpy as np\n",
    "import pandas as pd\n",
    "import matplotlib.pyplot as plt\n",
    "import seaborn as sns\n",
    "import warnings\n",
    "warnings.filterwarnings('ignore')"
   ]
  },
  {
   "cell_type": "code",
   "execution_count": 2,
   "id": "fbda3705",
   "metadata": {},
   "outputs": [],
   "source": [
    "credit_df = pd.read_csv(r'D:\\Downloads\\credit.csv')"
   ]
  },
  {
   "cell_type": "code",
   "execution_count": 3,
   "id": "3093f65c",
   "metadata": {
    "scrolled": true
   },
   "outputs": [
    {
     "data": {
      "text/html": [
       "<div>\n",
       "<style scoped>\n",
       "    .dataframe tbody tr th:only-of-type {\n",
       "        vertical-align: middle;\n",
       "    }\n",
       "\n",
       "    .dataframe tbody tr th {\n",
       "        vertical-align: top;\n",
       "    }\n",
       "\n",
       "    .dataframe thead th {\n",
       "        text-align: right;\n",
       "    }\n",
       "</style>\n",
       "<table border=\"1\" class=\"dataframe\">\n",
       "  <thead>\n",
       "    <tr style=\"text-align: right;\">\n",
       "      <th></th>\n",
       "      <th>ID</th>\n",
       "      <th>Customer_ID</th>\n",
       "      <th>Month</th>\n",
       "      <th>Name</th>\n",
       "      <th>Age</th>\n",
       "      <th>SSN</th>\n",
       "      <th>Occupation</th>\n",
       "      <th>Annual_Income</th>\n",
       "      <th>Monthly_Inhand_Salary</th>\n",
       "      <th>Num_Bank_Accounts</th>\n",
       "      <th>...</th>\n",
       "      <th>Credit_Mix</th>\n",
       "      <th>Outstanding_Debt</th>\n",
       "      <th>Credit_Utilization_Ratio</th>\n",
       "      <th>Credit_History_Age</th>\n",
       "      <th>Payment_of_Min_Amount</th>\n",
       "      <th>Total_EMI_per_month</th>\n",
       "      <th>Amount_invested_monthly</th>\n",
       "      <th>Payment_Behaviour</th>\n",
       "      <th>Monthly_Balance</th>\n",
       "      <th>Credit_Score</th>\n",
       "    </tr>\n",
       "  </thead>\n",
       "  <tbody>\n",
       "    <tr>\n",
       "      <th>0</th>\n",
       "      <td>5634</td>\n",
       "      <td>3392</td>\n",
       "      <td>1</td>\n",
       "      <td>Aaron Maashoh</td>\n",
       "      <td>23.0</td>\n",
       "      <td>821000265.0</td>\n",
       "      <td>Scientist</td>\n",
       "      <td>19114.12</td>\n",
       "      <td>1824.843333</td>\n",
       "      <td>3.0</td>\n",
       "      <td>...</td>\n",
       "      <td>Good</td>\n",
       "      <td>809.98</td>\n",
       "      <td>26.822620</td>\n",
       "      <td>265.0</td>\n",
       "      <td>No</td>\n",
       "      <td>49.574949</td>\n",
       "      <td>21.465380</td>\n",
       "      <td>High_spent_Small_value_payments</td>\n",
       "      <td>312.494089</td>\n",
       "      <td>Good</td>\n",
       "    </tr>\n",
       "    <tr>\n",
       "      <th>1</th>\n",
       "      <td>5635</td>\n",
       "      <td>3392</td>\n",
       "      <td>2</td>\n",
       "      <td>Aaron Maashoh</td>\n",
       "      <td>23.0</td>\n",
       "      <td>821000265.0</td>\n",
       "      <td>Scientist</td>\n",
       "      <td>19114.12</td>\n",
       "      <td>1824.843333</td>\n",
       "      <td>3.0</td>\n",
       "      <td>...</td>\n",
       "      <td>Good</td>\n",
       "      <td>809.98</td>\n",
       "      <td>31.944960</td>\n",
       "      <td>266.0</td>\n",
       "      <td>No</td>\n",
       "      <td>49.574949</td>\n",
       "      <td>21.465380</td>\n",
       "      <td>Low_spent_Large_value_payments</td>\n",
       "      <td>284.629162</td>\n",
       "      <td>Good</td>\n",
       "    </tr>\n",
       "    <tr>\n",
       "      <th>2</th>\n",
       "      <td>5636</td>\n",
       "      <td>3392</td>\n",
       "      <td>3</td>\n",
       "      <td>Aaron Maashoh</td>\n",
       "      <td>23.0</td>\n",
       "      <td>821000265.0</td>\n",
       "      <td>Scientist</td>\n",
       "      <td>19114.12</td>\n",
       "      <td>1824.843333</td>\n",
       "      <td>3.0</td>\n",
       "      <td>...</td>\n",
       "      <td>Good</td>\n",
       "      <td>809.98</td>\n",
       "      <td>28.609352</td>\n",
       "      <td>267.0</td>\n",
       "      <td>No</td>\n",
       "      <td>49.574949</td>\n",
       "      <td>21.465380</td>\n",
       "      <td>Low_spent_Medium_value_payments</td>\n",
       "      <td>331.209863</td>\n",
       "      <td>Good</td>\n",
       "    </tr>\n",
       "    <tr>\n",
       "      <th>3</th>\n",
       "      <td>5637</td>\n",
       "      <td>3392</td>\n",
       "      <td>4</td>\n",
       "      <td>Aaron Maashoh</td>\n",
       "      <td>23.0</td>\n",
       "      <td>821000265.0</td>\n",
       "      <td>Scientist</td>\n",
       "      <td>19114.12</td>\n",
       "      <td>1824.843333</td>\n",
       "      <td>3.0</td>\n",
       "      <td>...</td>\n",
       "      <td>Good</td>\n",
       "      <td>809.98</td>\n",
       "      <td>31.377862</td>\n",
       "      <td>268.0</td>\n",
       "      <td>No</td>\n",
       "      <td>49.574949</td>\n",
       "      <td>21.465380</td>\n",
       "      <td>Low_spent_Small_value_payments</td>\n",
       "      <td>223.451310</td>\n",
       "      <td>Good</td>\n",
       "    </tr>\n",
       "    <tr>\n",
       "      <th>4</th>\n",
       "      <td>5638</td>\n",
       "      <td>3392</td>\n",
       "      <td>5</td>\n",
       "      <td>Aaron Maashoh</td>\n",
       "      <td>23.0</td>\n",
       "      <td>821000265.0</td>\n",
       "      <td>Scientist</td>\n",
       "      <td>19114.12</td>\n",
       "      <td>1824.843333</td>\n",
       "      <td>3.0</td>\n",
       "      <td>...</td>\n",
       "      <td>Good</td>\n",
       "      <td>809.98</td>\n",
       "      <td>24.797347</td>\n",
       "      <td>269.0</td>\n",
       "      <td>No</td>\n",
       "      <td>49.574949</td>\n",
       "      <td>21.465380</td>\n",
       "      <td>High_spent_Medium_value_payments</td>\n",
       "      <td>341.489231</td>\n",
       "      <td>Good</td>\n",
       "    </tr>\n",
       "    <tr>\n",
       "      <th>...</th>\n",
       "      <td>...</td>\n",
       "      <td>...</td>\n",
       "      <td>...</td>\n",
       "      <td>...</td>\n",
       "      <td>...</td>\n",
       "      <td>...</td>\n",
       "      <td>...</td>\n",
       "      <td>...</td>\n",
       "      <td>...</td>\n",
       "      <td>...</td>\n",
       "      <td>...</td>\n",
       "      <td>...</td>\n",
       "      <td>...</td>\n",
       "      <td>...</td>\n",
       "      <td>...</td>\n",
       "      <td>...</td>\n",
       "      <td>...</td>\n",
       "      <td>...</td>\n",
       "      <td>...</td>\n",
       "      <td>...</td>\n",
       "      <td>...</td>\n",
       "    </tr>\n",
       "    <tr>\n",
       "      <th>99995</th>\n",
       "      <td>155625</td>\n",
       "      <td>37932</td>\n",
       "      <td>4</td>\n",
       "      <td>Nicks</td>\n",
       "      <td>25.0</td>\n",
       "      <td>78735990.0</td>\n",
       "      <td>Mechanic</td>\n",
       "      <td>39628.99</td>\n",
       "      <td>3359.415833</td>\n",
       "      <td>4.0</td>\n",
       "      <td>...</td>\n",
       "      <td>Good</td>\n",
       "      <td>502.38</td>\n",
       "      <td>34.663572</td>\n",
       "      <td>378.0</td>\n",
       "      <td>No</td>\n",
       "      <td>35.104023</td>\n",
       "      <td>24.028477</td>\n",
       "      <td>High_spent_Large_value_payments</td>\n",
       "      <td>479.866228</td>\n",
       "      <td>Poor</td>\n",
       "    </tr>\n",
       "    <tr>\n",
       "      <th>99996</th>\n",
       "      <td>155626</td>\n",
       "      <td>37932</td>\n",
       "      <td>5</td>\n",
       "      <td>Nicks</td>\n",
       "      <td>25.0</td>\n",
       "      <td>78735990.0</td>\n",
       "      <td>Mechanic</td>\n",
       "      <td>39628.99</td>\n",
       "      <td>3359.415833</td>\n",
       "      <td>4.0</td>\n",
       "      <td>...</td>\n",
       "      <td>Good</td>\n",
       "      <td>502.38</td>\n",
       "      <td>40.565631</td>\n",
       "      <td>379.0</td>\n",
       "      <td>No</td>\n",
       "      <td>35.104023</td>\n",
       "      <td>24.028477</td>\n",
       "      <td>High_spent_Medium_value_payments</td>\n",
       "      <td>496.651610</td>\n",
       "      <td>Poor</td>\n",
       "    </tr>\n",
       "    <tr>\n",
       "      <th>99997</th>\n",
       "      <td>155627</td>\n",
       "      <td>37932</td>\n",
       "      <td>6</td>\n",
       "      <td>Nicks</td>\n",
       "      <td>25.0</td>\n",
       "      <td>78735990.0</td>\n",
       "      <td>Mechanic</td>\n",
       "      <td>39628.99</td>\n",
       "      <td>3359.415833</td>\n",
       "      <td>4.0</td>\n",
       "      <td>...</td>\n",
       "      <td>Good</td>\n",
       "      <td>502.38</td>\n",
       "      <td>41.255522</td>\n",
       "      <td>380.0</td>\n",
       "      <td>No</td>\n",
       "      <td>35.104023</td>\n",
       "      <td>24.028477</td>\n",
       "      <td>High_spent_Large_value_payments</td>\n",
       "      <td>516.809083</td>\n",
       "      <td>Poor</td>\n",
       "    </tr>\n",
       "    <tr>\n",
       "      <th>99998</th>\n",
       "      <td>155628</td>\n",
       "      <td>37932</td>\n",
       "      <td>7</td>\n",
       "      <td>Nicks</td>\n",
       "      <td>25.0</td>\n",
       "      <td>78735990.0</td>\n",
       "      <td>Mechanic</td>\n",
       "      <td>39628.99</td>\n",
       "      <td>3359.415833</td>\n",
       "      <td>4.0</td>\n",
       "      <td>...</td>\n",
       "      <td>Good</td>\n",
       "      <td>502.38</td>\n",
       "      <td>33.638208</td>\n",
       "      <td>381.0</td>\n",
       "      <td>No</td>\n",
       "      <td>35.104023</td>\n",
       "      <td>24.028477</td>\n",
       "      <td>Low_spent_Large_value_payments</td>\n",
       "      <td>319.164979</td>\n",
       "      <td>Standard</td>\n",
       "    </tr>\n",
       "    <tr>\n",
       "      <th>99999</th>\n",
       "      <td>155629</td>\n",
       "      <td>37932</td>\n",
       "      <td>8</td>\n",
       "      <td>Nicks</td>\n",
       "      <td>25.0</td>\n",
       "      <td>78735990.0</td>\n",
       "      <td>Mechanic</td>\n",
       "      <td>39628.99</td>\n",
       "      <td>3359.415833</td>\n",
       "      <td>4.0</td>\n",
       "      <td>...</td>\n",
       "      <td>Good</td>\n",
       "      <td>502.38</td>\n",
       "      <td>34.192463</td>\n",
       "      <td>382.0</td>\n",
       "      <td>No</td>\n",
       "      <td>35.104023</td>\n",
       "      <td>24.028477</td>\n",
       "      <td>High_spent_Medium_value_payments</td>\n",
       "      <td>393.673696</td>\n",
       "      <td>Poor</td>\n",
       "    </tr>\n",
       "  </tbody>\n",
       "</table>\n",
       "<p>100000 rows × 28 columns</p>\n",
       "</div>"
      ],
      "text/plain": [
       "           ID  Customer_ID  Month           Name   Age          SSN  \\\n",
       "0        5634         3392      1  Aaron Maashoh  23.0  821000265.0   \n",
       "1        5635         3392      2  Aaron Maashoh  23.0  821000265.0   \n",
       "2        5636         3392      3  Aaron Maashoh  23.0  821000265.0   \n",
       "3        5637         3392      4  Aaron Maashoh  23.0  821000265.0   \n",
       "4        5638         3392      5  Aaron Maashoh  23.0  821000265.0   \n",
       "...       ...          ...    ...            ...   ...          ...   \n",
       "99995  155625        37932      4          Nicks  25.0   78735990.0   \n",
       "99996  155626        37932      5          Nicks  25.0   78735990.0   \n",
       "99997  155627        37932      6          Nicks  25.0   78735990.0   \n",
       "99998  155628        37932      7          Nicks  25.0   78735990.0   \n",
       "99999  155629        37932      8          Nicks  25.0   78735990.0   \n",
       "\n",
       "      Occupation  Annual_Income  Monthly_Inhand_Salary  Num_Bank_Accounts  \\\n",
       "0      Scientist       19114.12            1824.843333                3.0   \n",
       "1      Scientist       19114.12            1824.843333                3.0   \n",
       "2      Scientist       19114.12            1824.843333                3.0   \n",
       "3      Scientist       19114.12            1824.843333                3.0   \n",
       "4      Scientist       19114.12            1824.843333                3.0   \n",
       "...          ...            ...                    ...                ...   \n",
       "99995   Mechanic       39628.99            3359.415833                4.0   \n",
       "99996   Mechanic       39628.99            3359.415833                4.0   \n",
       "99997   Mechanic       39628.99            3359.415833                4.0   \n",
       "99998   Mechanic       39628.99            3359.415833                4.0   \n",
       "99999   Mechanic       39628.99            3359.415833                4.0   \n",
       "\n",
       "       ...  Credit_Mix  Outstanding_Debt  Credit_Utilization_Ratio  \\\n",
       "0      ...        Good            809.98                 26.822620   \n",
       "1      ...        Good            809.98                 31.944960   \n",
       "2      ...        Good            809.98                 28.609352   \n",
       "3      ...        Good            809.98                 31.377862   \n",
       "4      ...        Good            809.98                 24.797347   \n",
       "...    ...         ...               ...                       ...   \n",
       "99995  ...        Good            502.38                 34.663572   \n",
       "99996  ...        Good            502.38                 40.565631   \n",
       "99997  ...        Good            502.38                 41.255522   \n",
       "99998  ...        Good            502.38                 33.638208   \n",
       "99999  ...        Good            502.38                 34.192463   \n",
       "\n",
       "      Credit_History_Age  Payment_of_Min_Amount  Total_EMI_per_month  \\\n",
       "0                  265.0                     No            49.574949   \n",
       "1                  266.0                     No            49.574949   \n",
       "2                  267.0                     No            49.574949   \n",
       "3                  268.0                     No            49.574949   \n",
       "4                  269.0                     No            49.574949   \n",
       "...                  ...                    ...                  ...   \n",
       "99995              378.0                     No            35.104023   \n",
       "99996              379.0                     No            35.104023   \n",
       "99997              380.0                     No            35.104023   \n",
       "99998              381.0                     No            35.104023   \n",
       "99999              382.0                     No            35.104023   \n",
       "\n",
       "       Amount_invested_monthly                 Payment_Behaviour  \\\n",
       "0                    21.465380   High_spent_Small_value_payments   \n",
       "1                    21.465380    Low_spent_Large_value_payments   \n",
       "2                    21.465380   Low_spent_Medium_value_payments   \n",
       "3                    21.465380    Low_spent_Small_value_payments   \n",
       "4                    21.465380  High_spent_Medium_value_payments   \n",
       "...                        ...                               ...   \n",
       "99995                24.028477   High_spent_Large_value_payments   \n",
       "99996                24.028477  High_spent_Medium_value_payments   \n",
       "99997                24.028477   High_spent_Large_value_payments   \n",
       "99998                24.028477    Low_spent_Large_value_payments   \n",
       "99999                24.028477  High_spent_Medium_value_payments   \n",
       "\n",
       "      Monthly_Balance  Credit_Score  \n",
       "0          312.494089          Good  \n",
       "1          284.629162          Good  \n",
       "2          331.209863          Good  \n",
       "3          223.451310          Good  \n",
       "4          341.489231          Good  \n",
       "...               ...           ...  \n",
       "99995      479.866228          Poor  \n",
       "99996      496.651610          Poor  \n",
       "99997      516.809083          Poor  \n",
       "99998      319.164979      Standard  \n",
       "99999      393.673696          Poor  \n",
       "\n",
       "[100000 rows x 28 columns]"
      ]
     },
     "execution_count": 3,
     "metadata": {},
     "output_type": "execute_result"
    }
   ],
   "source": [
    "credit_df"
   ]
  },
  {
   "cell_type": "markdown",
   "id": "9b8d117e",
   "metadata": {},
   "source": [
    "### About the dataset"
   ]
  },
  {
   "cell_type": "raw",
   "id": "03ded119",
   "metadata": {},
   "source": [
    "ID: Represents a unique identification of an entry\n",
    "\n",
    "Customer_ID: Represents a unique identification of a person\n",
    "\n",
    "Month: Represents the month of the year\n",
    "\n",
    "Name: Represents the name of a person\n",
    "\n",
    "Age: Represents the age of the person\n",
    "\n",
    "SSN: Represents the social security number of a person\n",
    "\n",
    "Occupation: Represents the occupation of the person\n",
    "\n",
    "Annual_Income: Represents the annual income of the person\n",
    "\n",
    "Monthly_Inhand_Salary: Represents the monthly base salary of a person\n",
    "\n",
    "Num_Bank_Accounts: Represents the number of bank accounts a person holds\n",
    "\n",
    "Num_Credit_Card: Represents the number of other credit cards held by a person\n",
    "\n",
    "Interest_Rate: Represents the interest rate on credit card\n",
    "\n",
    "Num_of_Loan: Represents the number of loans taken from the bank\n",
    "\n",
    "Type_of_Loan: Represents the types of loan taken by a person\n",
    "\n",
    "Delay_from_due_date: Represents the average number of days delayed from the payment date\n",
    "\n",
    "Num_of_delayed_Payment: Represents the average number of payments delayed by a person\n",
    "\n",
    "Changed_Credit_Limit: Represents the percentage change in credit card limit\n",
    "\n",
    "Num_Credit_Inquiries: Represents the number of credit card inquiries\n",
    "\n",
    "Credit_Mix: Represents the classification of the mix of credits\n",
    "\n",
    "Outstanding_Debt: Represents the remaining debt to be paid (in USD)\n",
    "\n",
    "Credit_Utilization_Ratio: Represents the utilization ratio of credit card\n",
    "\n",
    "Credit_History_Age: Represents the age of credit history of the person\n",
    "\n",
    "Payment_of_Min_Amount: Represents whether only the minimum amount was paid by the person\n",
    "\n",
    "Total_EMI_per_Month : Represents the monthly EMI amount paid by the person\n",
    "\n",
    "Amount_invested_monthly: Represents the monthly amount invested by the customer (in USD)\n",
    "\n",
    "Payment_Behaviour: Represents the payment behavior of the customer (in USD)\n",
    "\n",
    "Monthly_Balance: Represents the monthly balance amount of the customer (in USD)\n",
    "\n",
    "Credit_Score: Represents the bracket of credit score (Poor, Standard, Good)"
   ]
  },
  {
   "cell_type": "code",
   "execution_count": 4,
   "id": "67991d25",
   "metadata": {},
   "outputs": [],
   "source": [
    "#training data\n",
    "train_df = credit_df[:8000]"
   ]
  },
  {
   "cell_type": "code",
   "execution_count": 5,
   "id": "23f39037",
   "metadata": {},
   "outputs": [
    {
     "data": {
      "text/plain": [
       "(8000, 28)"
      ]
     },
     "execution_count": 5,
     "metadata": {},
     "output_type": "execute_result"
    }
   ],
   "source": [
    "train_df.shape "
   ]
  },
  {
   "cell_type": "code",
   "execution_count": 6,
   "id": "e89d86ee",
   "metadata": {},
   "outputs": [
    {
     "data": {
      "text/html": [
       "<div>\n",
       "<style scoped>\n",
       "    .dataframe tbody tr th:only-of-type {\n",
       "        vertical-align: middle;\n",
       "    }\n",
       "\n",
       "    .dataframe tbody tr th {\n",
       "        vertical-align: top;\n",
       "    }\n",
       "\n",
       "    .dataframe thead th {\n",
       "        text-align: right;\n",
       "    }\n",
       "</style>\n",
       "<table border=\"1\" class=\"dataframe\">\n",
       "  <thead>\n",
       "    <tr style=\"text-align: right;\">\n",
       "      <th></th>\n",
       "      <th>ID</th>\n",
       "      <th>Customer_ID</th>\n",
       "      <th>Month</th>\n",
       "      <th>Name</th>\n",
       "      <th>Age</th>\n",
       "      <th>SSN</th>\n",
       "      <th>Occupation</th>\n",
       "      <th>Annual_Income</th>\n",
       "      <th>Monthly_Inhand_Salary</th>\n",
       "      <th>Num_Bank_Accounts</th>\n",
       "      <th>...</th>\n",
       "      <th>Credit_Mix</th>\n",
       "      <th>Outstanding_Debt</th>\n",
       "      <th>Credit_Utilization_Ratio</th>\n",
       "      <th>Credit_History_Age</th>\n",
       "      <th>Payment_of_Min_Amount</th>\n",
       "      <th>Total_EMI_per_month</th>\n",
       "      <th>Amount_invested_monthly</th>\n",
       "      <th>Payment_Behaviour</th>\n",
       "      <th>Monthly_Balance</th>\n",
       "      <th>Credit_Score</th>\n",
       "    </tr>\n",
       "  </thead>\n",
       "  <tbody>\n",
       "    <tr>\n",
       "      <th>0</th>\n",
       "      <td>5634</td>\n",
       "      <td>3392</td>\n",
       "      <td>1</td>\n",
       "      <td>Aaron Maashoh</td>\n",
       "      <td>23.0</td>\n",
       "      <td>821000265.0</td>\n",
       "      <td>Scientist</td>\n",
       "      <td>19114.12</td>\n",
       "      <td>1824.843333</td>\n",
       "      <td>3.0</td>\n",
       "      <td>...</td>\n",
       "      <td>Good</td>\n",
       "      <td>809.98</td>\n",
       "      <td>26.822620</td>\n",
       "      <td>265.0</td>\n",
       "      <td>No</td>\n",
       "      <td>49.574949</td>\n",
       "      <td>21.46538</td>\n",
       "      <td>High_spent_Small_value_payments</td>\n",
       "      <td>312.494089</td>\n",
       "      <td>Good</td>\n",
       "    </tr>\n",
       "    <tr>\n",
       "      <th>1</th>\n",
       "      <td>5635</td>\n",
       "      <td>3392</td>\n",
       "      <td>2</td>\n",
       "      <td>Aaron Maashoh</td>\n",
       "      <td>23.0</td>\n",
       "      <td>821000265.0</td>\n",
       "      <td>Scientist</td>\n",
       "      <td>19114.12</td>\n",
       "      <td>1824.843333</td>\n",
       "      <td>3.0</td>\n",
       "      <td>...</td>\n",
       "      <td>Good</td>\n",
       "      <td>809.98</td>\n",
       "      <td>31.944960</td>\n",
       "      <td>266.0</td>\n",
       "      <td>No</td>\n",
       "      <td>49.574949</td>\n",
       "      <td>21.46538</td>\n",
       "      <td>Low_spent_Large_value_payments</td>\n",
       "      <td>284.629162</td>\n",
       "      <td>Good</td>\n",
       "    </tr>\n",
       "    <tr>\n",
       "      <th>2</th>\n",
       "      <td>5636</td>\n",
       "      <td>3392</td>\n",
       "      <td>3</td>\n",
       "      <td>Aaron Maashoh</td>\n",
       "      <td>23.0</td>\n",
       "      <td>821000265.0</td>\n",
       "      <td>Scientist</td>\n",
       "      <td>19114.12</td>\n",
       "      <td>1824.843333</td>\n",
       "      <td>3.0</td>\n",
       "      <td>...</td>\n",
       "      <td>Good</td>\n",
       "      <td>809.98</td>\n",
       "      <td>28.609352</td>\n",
       "      <td>267.0</td>\n",
       "      <td>No</td>\n",
       "      <td>49.574949</td>\n",
       "      <td>21.46538</td>\n",
       "      <td>Low_spent_Medium_value_payments</td>\n",
       "      <td>331.209863</td>\n",
       "      <td>Good</td>\n",
       "    </tr>\n",
       "    <tr>\n",
       "      <th>3</th>\n",
       "      <td>5637</td>\n",
       "      <td>3392</td>\n",
       "      <td>4</td>\n",
       "      <td>Aaron Maashoh</td>\n",
       "      <td>23.0</td>\n",
       "      <td>821000265.0</td>\n",
       "      <td>Scientist</td>\n",
       "      <td>19114.12</td>\n",
       "      <td>1824.843333</td>\n",
       "      <td>3.0</td>\n",
       "      <td>...</td>\n",
       "      <td>Good</td>\n",
       "      <td>809.98</td>\n",
       "      <td>31.377862</td>\n",
       "      <td>268.0</td>\n",
       "      <td>No</td>\n",
       "      <td>49.574949</td>\n",
       "      <td>21.46538</td>\n",
       "      <td>Low_spent_Small_value_payments</td>\n",
       "      <td>223.451310</td>\n",
       "      <td>Good</td>\n",
       "    </tr>\n",
       "    <tr>\n",
       "      <th>4</th>\n",
       "      <td>5638</td>\n",
       "      <td>3392</td>\n",
       "      <td>5</td>\n",
       "      <td>Aaron Maashoh</td>\n",
       "      <td>23.0</td>\n",
       "      <td>821000265.0</td>\n",
       "      <td>Scientist</td>\n",
       "      <td>19114.12</td>\n",
       "      <td>1824.843333</td>\n",
       "      <td>3.0</td>\n",
       "      <td>...</td>\n",
       "      <td>Good</td>\n",
       "      <td>809.98</td>\n",
       "      <td>24.797347</td>\n",
       "      <td>269.0</td>\n",
       "      <td>No</td>\n",
       "      <td>49.574949</td>\n",
       "      <td>21.46538</td>\n",
       "      <td>High_spent_Medium_value_payments</td>\n",
       "      <td>341.489231</td>\n",
       "      <td>Good</td>\n",
       "    </tr>\n",
       "  </tbody>\n",
       "</table>\n",
       "<p>5 rows × 28 columns</p>\n",
       "</div>"
      ],
      "text/plain": [
       "     ID  Customer_ID  Month           Name   Age          SSN Occupation  \\\n",
       "0  5634         3392      1  Aaron Maashoh  23.0  821000265.0  Scientist   \n",
       "1  5635         3392      2  Aaron Maashoh  23.0  821000265.0  Scientist   \n",
       "2  5636         3392      3  Aaron Maashoh  23.0  821000265.0  Scientist   \n",
       "3  5637         3392      4  Aaron Maashoh  23.0  821000265.0  Scientist   \n",
       "4  5638         3392      5  Aaron Maashoh  23.0  821000265.0  Scientist   \n",
       "\n",
       "   Annual_Income  Monthly_Inhand_Salary  Num_Bank_Accounts  ...  Credit_Mix  \\\n",
       "0       19114.12            1824.843333                3.0  ...        Good   \n",
       "1       19114.12            1824.843333                3.0  ...        Good   \n",
       "2       19114.12            1824.843333                3.0  ...        Good   \n",
       "3       19114.12            1824.843333                3.0  ...        Good   \n",
       "4       19114.12            1824.843333                3.0  ...        Good   \n",
       "\n",
       "   Outstanding_Debt  Credit_Utilization_Ratio Credit_History_Age  \\\n",
       "0            809.98                 26.822620              265.0   \n",
       "1            809.98                 31.944960              266.0   \n",
       "2            809.98                 28.609352              267.0   \n",
       "3            809.98                 31.377862              268.0   \n",
       "4            809.98                 24.797347              269.0   \n",
       "\n",
       "   Payment_of_Min_Amount  Total_EMI_per_month  Amount_invested_monthly  \\\n",
       "0                     No            49.574949                 21.46538   \n",
       "1                     No            49.574949                 21.46538   \n",
       "2                     No            49.574949                 21.46538   \n",
       "3                     No            49.574949                 21.46538   \n",
       "4                     No            49.574949                 21.46538   \n",
       "\n",
       "                  Payment_Behaviour Monthly_Balance  Credit_Score  \n",
       "0   High_spent_Small_value_payments      312.494089          Good  \n",
       "1    Low_spent_Large_value_payments      284.629162          Good  \n",
       "2   Low_spent_Medium_value_payments      331.209863          Good  \n",
       "3    Low_spent_Small_value_payments      223.451310          Good  \n",
       "4  High_spent_Medium_value_payments      341.489231          Good  \n",
       "\n",
       "[5 rows x 28 columns]"
      ]
     },
     "execution_count": 6,
     "metadata": {},
     "output_type": "execute_result"
    }
   ],
   "source": [
    "train_df.head()"
   ]
  },
  {
   "cell_type": "code",
   "execution_count": 7,
   "id": "98776dcc",
   "metadata": {},
   "outputs": [],
   "source": [
    "#check for null values"
   ]
  },
  {
   "cell_type": "code",
   "execution_count": 8,
   "id": "58c7cbe5",
   "metadata": {},
   "outputs": [
    {
     "data": {
      "text/plain": [
       "ID                          0\n",
       "Customer_ID                 0\n",
       "Month                       0\n",
       "Name                        0\n",
       "Age                         0\n",
       "SSN                         0\n",
       "Occupation                  0\n",
       "Annual_Income               0\n",
       "Monthly_Inhand_Salary       0\n",
       "Num_Bank_Accounts           0\n",
       "Num_Credit_Card             0\n",
       "Interest_Rate               0\n",
       "Num_of_Loan                 0\n",
       "Type_of_Loan                0\n",
       "Delay_from_due_date         0\n",
       "Num_of_Delayed_Payment      0\n",
       "Changed_Credit_Limit        0\n",
       "Num_Credit_Inquiries        0\n",
       "Credit_Mix                  0\n",
       "Outstanding_Debt            0\n",
       "Credit_Utilization_Ratio    0\n",
       "Credit_History_Age          0\n",
       "Payment_of_Min_Amount       0\n",
       "Total_EMI_per_month         0\n",
       "Amount_invested_monthly     0\n",
       "Payment_Behaviour           0\n",
       "Monthly_Balance             0\n",
       "Credit_Score                0\n",
       "dtype: int64"
      ]
     },
     "execution_count": 8,
     "metadata": {},
     "output_type": "execute_result"
    }
   ],
   "source": [
    "train_df.isna().sum()"
   ]
  },
  {
   "cell_type": "code",
   "execution_count": 9,
   "id": "2f481246",
   "metadata": {},
   "outputs": [
    {
     "name": "stdout",
     "output_type": "stream",
     "text": [
      "<class 'pandas.core.frame.DataFrame'>\n",
      "RangeIndex: 8000 entries, 0 to 7999\n",
      "Data columns (total 28 columns):\n",
      " #   Column                    Non-Null Count  Dtype  \n",
      "---  ------                    --------------  -----  \n",
      " 0   ID                        8000 non-null   int64  \n",
      " 1   Customer_ID               8000 non-null   int64  \n",
      " 2   Month                     8000 non-null   int64  \n",
      " 3   Name                      8000 non-null   object \n",
      " 4   Age                       8000 non-null   float64\n",
      " 5   SSN                       8000 non-null   float64\n",
      " 6   Occupation                8000 non-null   object \n",
      " 7   Annual_Income             8000 non-null   float64\n",
      " 8   Monthly_Inhand_Salary     8000 non-null   float64\n",
      " 9   Num_Bank_Accounts         8000 non-null   float64\n",
      " 10  Num_Credit_Card           8000 non-null   float64\n",
      " 11  Interest_Rate             8000 non-null   float64\n",
      " 12  Num_of_Loan               8000 non-null   float64\n",
      " 13  Type_of_Loan              8000 non-null   object \n",
      " 14  Delay_from_due_date       8000 non-null   float64\n",
      " 15  Num_of_Delayed_Payment    8000 non-null   float64\n",
      " 16  Changed_Credit_Limit      8000 non-null   float64\n",
      " 17  Num_Credit_Inquiries      8000 non-null   float64\n",
      " 18  Credit_Mix                8000 non-null   object \n",
      " 19  Outstanding_Debt          8000 non-null   float64\n",
      " 20  Credit_Utilization_Ratio  8000 non-null   float64\n",
      " 21  Credit_History_Age        8000 non-null   float64\n",
      " 22  Payment_of_Min_Amount     8000 non-null   object \n",
      " 23  Total_EMI_per_month       8000 non-null   float64\n",
      " 24  Amount_invested_monthly   8000 non-null   float64\n",
      " 25  Payment_Behaviour         8000 non-null   object \n",
      " 26  Monthly_Balance           8000 non-null   float64\n",
      " 27  Credit_Score              8000 non-null   object \n",
      "dtypes: float64(18), int64(3), object(7)\n",
      "memory usage: 1.7+ MB\n"
     ]
    }
   ],
   "source": [
    "train_df.info()"
   ]
  },
  {
   "cell_type": "code",
   "execution_count": 10,
   "id": "8634c23f",
   "metadata": {},
   "outputs": [
    {
     "data": {
      "text/html": [
       "<div>\n",
       "<style scoped>\n",
       "    .dataframe tbody tr th:only-of-type {\n",
       "        vertical-align: middle;\n",
       "    }\n",
       "\n",
       "    .dataframe tbody tr th {\n",
       "        vertical-align: top;\n",
       "    }\n",
       "\n",
       "    .dataframe thead th {\n",
       "        text-align: right;\n",
       "    }\n",
       "</style>\n",
       "<table border=\"1\" class=\"dataframe\">\n",
       "  <thead>\n",
       "    <tr style=\"text-align: right;\">\n",
       "      <th></th>\n",
       "      <th>ID</th>\n",
       "      <th>Customer_ID</th>\n",
       "      <th>Month</th>\n",
       "      <th>Age</th>\n",
       "      <th>SSN</th>\n",
       "      <th>Annual_Income</th>\n",
       "      <th>Monthly_Inhand_Salary</th>\n",
       "      <th>Num_Bank_Accounts</th>\n",
       "      <th>Num_Credit_Card</th>\n",
       "      <th>Interest_Rate</th>\n",
       "      <th>...</th>\n",
       "      <th>Delay_from_due_date</th>\n",
       "      <th>Num_of_Delayed_Payment</th>\n",
       "      <th>Changed_Credit_Limit</th>\n",
       "      <th>Num_Credit_Inquiries</th>\n",
       "      <th>Outstanding_Debt</th>\n",
       "      <th>Credit_Utilization_Ratio</th>\n",
       "      <th>Credit_History_Age</th>\n",
       "      <th>Total_EMI_per_month</th>\n",
       "      <th>Amount_invested_monthly</th>\n",
       "      <th>Monthly_Balance</th>\n",
       "    </tr>\n",
       "  </thead>\n",
       "  <tbody>\n",
       "    <tr>\n",
       "      <th>count</th>\n",
       "      <td>8000.000000</td>\n",
       "      <td>8000.000000</td>\n",
       "      <td>8000.000000</td>\n",
       "      <td>8000.000000</td>\n",
       "      <td>8.000000e+03</td>\n",
       "      <td>8000.000000</td>\n",
       "      <td>8000.000000</td>\n",
       "      <td>8000.000000</td>\n",
       "      <td>8000.000000</td>\n",
       "      <td>8000.000000</td>\n",
       "      <td>...</td>\n",
       "      <td>8000.000000</td>\n",
       "      <td>8000.000000</td>\n",
       "      <td>8000.000000</td>\n",
       "      <td>8000.000000</td>\n",
       "      <td>8000.000000</td>\n",
       "      <td>8000.000000</td>\n",
       "      <td>8000.000000</td>\n",
       "      <td>8000.000000</td>\n",
       "      <td>8000.000000</td>\n",
       "      <td>8000.000000</td>\n",
       "    </tr>\n",
       "    <tr>\n",
       "      <th>mean</th>\n",
       "      <td>11631.500000</td>\n",
       "      <td>26262.756000</td>\n",
       "      <td>4.500000</td>\n",
       "      <td>33.083125</td>\n",
       "      <td>4.921812e+08</td>\n",
       "      <td>51707.797455</td>\n",
       "      <td>4296.560320</td>\n",
       "      <td>5.395875</td>\n",
       "      <td>5.523875</td>\n",
       "      <td>14.413000</td>\n",
       "      <td>...</td>\n",
       "      <td>21.648875</td>\n",
       "      <td>13.251500</td>\n",
       "      <td>10.412915</td>\n",
       "      <td>5.813000</td>\n",
       "      <td>1424.604940</td>\n",
       "      <td>32.312193</td>\n",
       "      <td>222.896125</td>\n",
       "      <td>108.164983</td>\n",
       "      <td>55.562881</td>\n",
       "      <td>395.586400</td>\n",
       "    </tr>\n",
       "    <tr>\n",
       "      <th>std</th>\n",
       "      <td>3464.317167</td>\n",
       "      <td>14576.860843</td>\n",
       "      <td>2.291431</td>\n",
       "      <td>10.810935</td>\n",
       "      <td>2.937730e+08</td>\n",
       "      <td>38487.349250</td>\n",
       "      <td>3196.500768</td>\n",
       "      <td>2.641975</td>\n",
       "      <td>2.023349</td>\n",
       "      <td>8.883147</td>\n",
       "      <td>...</td>\n",
       "      <td>14.694713</td>\n",
       "      <td>6.271556</td>\n",
       "      <td>6.791043</td>\n",
       "      <td>3.961091</td>\n",
       "      <td>1186.365566</td>\n",
       "      <td>5.169516</td>\n",
       "      <td>97.960548</td>\n",
       "      <td>125.296688</td>\n",
       "      <td>39.060711</td>\n",
       "      <td>205.169505</td>\n",
       "    </tr>\n",
       "    <tr>\n",
       "      <th>min</th>\n",
       "      <td>5634.000000</td>\n",
       "      <td>1030.000000</td>\n",
       "      <td>1.000000</td>\n",
       "      <td>14.000000</td>\n",
       "      <td>8.661820e+05</td>\n",
       "      <td>7006.520000</td>\n",
       "      <td>355.208333</td>\n",
       "      <td>0.000000</td>\n",
       "      <td>0.000000</td>\n",
       "      <td>1.000000</td>\n",
       "      <td>...</td>\n",
       "      <td>0.000000</td>\n",
       "      <td>0.000000</td>\n",
       "      <td>0.500000</td>\n",
       "      <td>0.000000</td>\n",
       "      <td>12.410000</td>\n",
       "      <td>20.172942</td>\n",
       "      <td>1.000000</td>\n",
       "      <td>0.000000</td>\n",
       "      <td>0.000000</td>\n",
       "      <td>0.688299</td>\n",
       "    </tr>\n",
       "    <tr>\n",
       "      <th>25%</th>\n",
       "      <td>8632.750000</td>\n",
       "      <td>14065.250000</td>\n",
       "      <td>2.750000</td>\n",
       "      <td>24.000000</td>\n",
       "      <td>2.376304e+08</td>\n",
       "      <td>20082.675000</td>\n",
       "      <td>1698.773333</td>\n",
       "      <td>3.000000</td>\n",
       "      <td>4.000000</td>\n",
       "      <td>7.000000</td>\n",
       "      <td>...</td>\n",
       "      <td>11.000000</td>\n",
       "      <td>9.000000</td>\n",
       "      <td>5.150000</td>\n",
       "      <td>3.000000</td>\n",
       "      <td>519.147500</td>\n",
       "      <td>27.980463</td>\n",
       "      <td>149.750000</td>\n",
       "      <td>28.442189</td>\n",
       "      <td>28.079720</td>\n",
       "      <td>268.263408</td>\n",
       "    </tr>\n",
       "    <tr>\n",
       "      <th>50%</th>\n",
       "      <td>11631.500000</td>\n",
       "      <td>26130.000000</td>\n",
       "      <td>4.500000</td>\n",
       "      <td>33.000000</td>\n",
       "      <td>4.728624e+08</td>\n",
       "      <td>38723.400000</td>\n",
       "      <td>3211.081667</td>\n",
       "      <td>6.000000</td>\n",
       "      <td>5.000000</td>\n",
       "      <td>13.000000</td>\n",
       "      <td>...</td>\n",
       "      <td>19.000000</td>\n",
       "      <td>14.000000</td>\n",
       "      <td>9.250000</td>\n",
       "      <td>5.000000</td>\n",
       "      <td>1126.960000</td>\n",
       "      <td>32.330276</td>\n",
       "      <td>221.000000</td>\n",
       "      <td>66.912509</td>\n",
       "      <td>45.432307</td>\n",
       "      <td>338.086781</td>\n",
       "    </tr>\n",
       "    <tr>\n",
       "      <th>75%</th>\n",
       "      <td>14630.250000</td>\n",
       "      <td>39783.250000</td>\n",
       "      <td>6.250000</td>\n",
       "      <td>42.000000</td>\n",
       "      <td>7.552645e+08</td>\n",
       "      <td>72243.855000</td>\n",
       "      <td>5953.057083</td>\n",
       "      <td>8.000000</td>\n",
       "      <td>7.000000</td>\n",
       "      <td>20.000000</td>\n",
       "      <td>...</td>\n",
       "      <td>29.000000</td>\n",
       "      <td>18.000000</td>\n",
       "      <td>14.912500</td>\n",
       "      <td>9.000000</td>\n",
       "      <td>1978.255000</td>\n",
       "      <td>36.593778</td>\n",
       "      <td>303.000000</td>\n",
       "      <td>149.897199</td>\n",
       "      <td>72.078087</td>\n",
       "      <td>466.399421</td>\n",
       "    </tr>\n",
       "    <tr>\n",
       "      <th>max</th>\n",
       "      <td>17629.000000</td>\n",
       "      <td>50979.000000</td>\n",
       "      <td>8.000000</td>\n",
       "      <td>56.000000</td>\n",
       "      <td>9.998496e+08</td>\n",
       "      <td>177887.800000</td>\n",
       "      <td>14828.983333</td>\n",
       "      <td>10.000000</td>\n",
       "      <td>11.000000</td>\n",
       "      <td>34.000000</td>\n",
       "      <td>...</td>\n",
       "      <td>62.000000</td>\n",
       "      <td>25.000000</td>\n",
       "      <td>29.970000</td>\n",
       "      <td>17.000000</td>\n",
       "      <td>4984.820000</td>\n",
       "      <td>48.247003</td>\n",
       "      <td>404.000000</td>\n",
       "      <td>1320.549063</td>\n",
       "      <td>256.313483</td>\n",
       "      <td>1183.930696</td>\n",
       "    </tr>\n",
       "  </tbody>\n",
       "</table>\n",
       "<p>8 rows × 21 columns</p>\n",
       "</div>"
      ],
      "text/plain": [
       "                 ID   Customer_ID        Month          Age           SSN  \\\n",
       "count   8000.000000   8000.000000  8000.000000  8000.000000  8.000000e+03   \n",
       "mean   11631.500000  26262.756000     4.500000    33.083125  4.921812e+08   \n",
       "std     3464.317167  14576.860843     2.291431    10.810935  2.937730e+08   \n",
       "min     5634.000000   1030.000000     1.000000    14.000000  8.661820e+05   \n",
       "25%     8632.750000  14065.250000     2.750000    24.000000  2.376304e+08   \n",
       "50%    11631.500000  26130.000000     4.500000    33.000000  4.728624e+08   \n",
       "75%    14630.250000  39783.250000     6.250000    42.000000  7.552645e+08   \n",
       "max    17629.000000  50979.000000     8.000000    56.000000  9.998496e+08   \n",
       "\n",
       "       Annual_Income  Monthly_Inhand_Salary  Num_Bank_Accounts  \\\n",
       "count    8000.000000            8000.000000        8000.000000   \n",
       "mean    51707.797455            4296.560320           5.395875   \n",
       "std     38487.349250            3196.500768           2.641975   \n",
       "min      7006.520000             355.208333           0.000000   \n",
       "25%     20082.675000            1698.773333           3.000000   \n",
       "50%     38723.400000            3211.081667           6.000000   \n",
       "75%     72243.855000            5953.057083           8.000000   \n",
       "max    177887.800000           14828.983333          10.000000   \n",
       "\n",
       "       Num_Credit_Card  Interest_Rate  ...  Delay_from_due_date  \\\n",
       "count      8000.000000    8000.000000  ...          8000.000000   \n",
       "mean          5.523875      14.413000  ...            21.648875   \n",
       "std           2.023349       8.883147  ...            14.694713   \n",
       "min           0.000000       1.000000  ...             0.000000   \n",
       "25%           4.000000       7.000000  ...            11.000000   \n",
       "50%           5.000000      13.000000  ...            19.000000   \n",
       "75%           7.000000      20.000000  ...            29.000000   \n",
       "max          11.000000      34.000000  ...            62.000000   \n",
       "\n",
       "       Num_of_Delayed_Payment  Changed_Credit_Limit  Num_Credit_Inquiries  \\\n",
       "count             8000.000000           8000.000000           8000.000000   \n",
       "mean                13.251500             10.412915              5.813000   \n",
       "std                  6.271556              6.791043              3.961091   \n",
       "min                  0.000000              0.500000              0.000000   \n",
       "25%                  9.000000              5.150000              3.000000   \n",
       "50%                 14.000000              9.250000              5.000000   \n",
       "75%                 18.000000             14.912500              9.000000   \n",
       "max                 25.000000             29.970000             17.000000   \n",
       "\n",
       "       Outstanding_Debt  Credit_Utilization_Ratio  Credit_History_Age  \\\n",
       "count       8000.000000               8000.000000         8000.000000   \n",
       "mean        1424.604940                 32.312193          222.896125   \n",
       "std         1186.365566                  5.169516           97.960548   \n",
       "min           12.410000                 20.172942            1.000000   \n",
       "25%          519.147500                 27.980463          149.750000   \n",
       "50%         1126.960000                 32.330276          221.000000   \n",
       "75%         1978.255000                 36.593778          303.000000   \n",
       "max         4984.820000                 48.247003          404.000000   \n",
       "\n",
       "       Total_EMI_per_month  Amount_invested_monthly  Monthly_Balance  \n",
       "count          8000.000000              8000.000000      8000.000000  \n",
       "mean            108.164983                55.562881       395.586400  \n",
       "std             125.296688                39.060711       205.169505  \n",
       "min               0.000000                 0.000000         0.688299  \n",
       "25%              28.442189                28.079720       268.263408  \n",
       "50%              66.912509                45.432307       338.086781  \n",
       "75%             149.897199                72.078087       466.399421  \n",
       "max            1320.549063               256.313483      1183.930696  \n",
       "\n",
       "[8 rows x 21 columns]"
      ]
     },
     "execution_count": 10,
     "metadata": {},
     "output_type": "execute_result"
    }
   ],
   "source": [
    "train_df.describe()"
   ]
  },
  {
   "cell_type": "code",
   "execution_count": 11,
   "id": "40f19d54",
   "metadata": {},
   "outputs": [
    {
     "data": {
      "text/plain": [
       "Index(['ID', 'Customer_ID', 'Month', 'Name', 'Age', 'SSN', 'Occupation',\n",
       "       'Annual_Income', 'Monthly_Inhand_Salary', 'Num_Bank_Accounts',\n",
       "       'Num_Credit_Card', 'Interest_Rate', 'Num_of_Loan', 'Type_of_Loan',\n",
       "       'Delay_from_due_date', 'Num_of_Delayed_Payment', 'Changed_Credit_Limit',\n",
       "       'Num_Credit_Inquiries', 'Credit_Mix', 'Outstanding_Debt',\n",
       "       'Credit_Utilization_Ratio', 'Credit_History_Age',\n",
       "       'Payment_of_Min_Amount', 'Total_EMI_per_month',\n",
       "       'Amount_invested_monthly', 'Payment_Behaviour', 'Monthly_Balance',\n",
       "       'Credit_Score'],\n",
       "      dtype='object')"
      ]
     },
     "execution_count": 11,
     "metadata": {},
     "output_type": "execute_result"
    }
   ],
   "source": [
    "train_df.columns"
   ]
  },
  {
   "cell_type": "code",
   "execution_count": 12,
   "id": "909c7e9c",
   "metadata": {},
   "outputs": [
    {
     "data": {
      "text/plain": [
       "ID                          8000\n",
       "Customer_ID                 1000\n",
       "Month                          8\n",
       "Name                         980\n",
       "Age                           43\n",
       "SSN                         1000\n",
       "Occupation                    15\n",
       "Annual_Income               1000\n",
       "Monthly_Inhand_Salary       1053\n",
       "Num_Bank_Accounts             11\n",
       "Num_Credit_Card               12\n",
       "Interest_Rate                 34\n",
       "Num_of_Loan                   10\n",
       "Type_of_Loan                 674\n",
       "Delay_from_due_date           63\n",
       "Num_of_Delayed_Payment        26\n",
       "Changed_Credit_Limit        1521\n",
       "Num_Credit_Inquiries          18\n",
       "Credit_Mix                     3\n",
       "Outstanding_Debt             998\n",
       "Credit_Utilization_Ratio    8000\n",
       "Credit_History_Age           404\n",
       "Payment_of_Min_Amount          3\n",
       "Total_EMI_per_month          936\n",
       "Amount_invested_monthly      984\n",
       "Payment_Behaviour              6\n",
       "Monthly_Balance             7865\n",
       "Credit_Score                   3\n",
       "dtype: int64"
      ]
     },
     "execution_count": 12,
     "metadata": {},
     "output_type": "execute_result"
    }
   ],
   "source": [
    "train_df.nunique()"
   ]
  },
  {
   "cell_type": "code",
   "execution_count": 13,
   "id": "b799f705",
   "metadata": {},
   "outputs": [],
   "source": [
    "# we can drop ID, Name and SSN as they are identifiers and not useful for visualization"
   ]
  },
  {
   "cell_type": "code",
   "execution_count": 14,
   "id": "ee358115",
   "metadata": {},
   "outputs": [],
   "source": [
    "train_df1 = train_df.drop(['ID', 'Name', 'SSN'], axis=1)"
   ]
  },
  {
   "cell_type": "code",
   "execution_count": 15,
   "id": "af272436",
   "metadata": {},
   "outputs": [
    {
     "data": {
      "text/plain": [
       "Index(['Customer_ID', 'Month', 'Age', 'Occupation', 'Annual_Income',\n",
       "       'Monthly_Inhand_Salary', 'Num_Bank_Accounts', 'Num_Credit_Card',\n",
       "       'Interest_Rate', 'Num_of_Loan', 'Type_of_Loan', 'Delay_from_due_date',\n",
       "       'Num_of_Delayed_Payment', 'Changed_Credit_Limit',\n",
       "       'Num_Credit_Inquiries', 'Credit_Mix', 'Outstanding_Debt',\n",
       "       'Credit_Utilization_Ratio', 'Credit_History_Age',\n",
       "       'Payment_of_Min_Amount', 'Total_EMI_per_month',\n",
       "       'Amount_invested_monthly', 'Payment_Behaviour', 'Monthly_Balance',\n",
       "       'Credit_Score'],\n",
       "      dtype='object')"
      ]
     },
     "execution_count": 15,
     "metadata": {},
     "output_type": "execute_result"
    }
   ],
   "source": [
    "#label of each column in the DataFrame.\n",
    "train_df1.columns"
   ]
  },
  {
   "cell_type": "code",
   "execution_count": 16,
   "id": "a4a9b4ff",
   "metadata": {},
   "outputs": [
    {
     "data": {
      "text/plain": [
       "array(['Good', 'Standard', 'Bad'], dtype=object)"
      ]
     },
     "execution_count": 16,
     "metadata": {},
     "output_type": "execute_result"
    }
   ],
   "source": [
    "#unique values from Credit_Mix\n",
    "train_df1['Credit_Mix'].unique() "
   ]
  },
  {
   "cell_type": "code",
   "execution_count": 17,
   "id": "691f8fa7",
   "metadata": {},
   "outputs": [
    {
     "data": {
      "text/plain": [
       "array(['High_spent_Small_value_payments',\n",
       "       'Low_spent_Large_value_payments',\n",
       "       'Low_spent_Medium_value_payments',\n",
       "       'Low_spent_Small_value_payments',\n",
       "       'High_spent_Medium_value_payments',\n",
       "       'High_spent_Large_value_payments'], dtype=object)"
      ]
     },
     "execution_count": 17,
     "metadata": {},
     "output_type": "execute_result"
    }
   ],
   "source": [
    "#unique values from Payment_Behaviour\n",
    "train_df1['Payment_Behaviour'].unique()"
   ]
  },
  {
   "cell_type": "code",
   "execution_count": 18,
   "id": "f4d4a3d6",
   "metadata": {},
   "outputs": [
    {
     "data": {
      "text/plain": [
       "Customer_ID                 0\n",
       "Month                       0\n",
       "Age                         0\n",
       "Occupation                  0\n",
       "Annual_Income               0\n",
       "Monthly_Inhand_Salary       0\n",
       "Num_Bank_Accounts           0\n",
       "Num_Credit_Card             0\n",
       "Interest_Rate               0\n",
       "Num_of_Loan                 0\n",
       "Type_of_Loan                0\n",
       "Delay_from_due_date         0\n",
       "Num_of_Delayed_Payment      0\n",
       "Changed_Credit_Limit        0\n",
       "Num_Credit_Inquiries        0\n",
       "Credit_Mix                  0\n",
       "Outstanding_Debt            0\n",
       "Credit_Utilization_Ratio    0\n",
       "Credit_History_Age          0\n",
       "Payment_of_Min_Amount       0\n",
       "Total_EMI_per_month         0\n",
       "Amount_invested_monthly     0\n",
       "Payment_Behaviour           0\n",
       "Monthly_Balance             0\n",
       "Credit_Score                0\n",
       "dtype: int64"
      ]
     },
     "execution_count": 18,
     "metadata": {},
     "output_type": "execute_result"
    }
   ],
   "source": [
    "## Check for null values\n",
    "train_df1.isna().sum()"
   ]
  },
  {
   "cell_type": "markdown",
   "id": "9c09cfde",
   "metadata": {},
   "source": [
    "## Univariate Analysis"
   ]
  },
  {
   "cell_type": "code",
   "execution_count": 19,
   "id": "de7a1a94",
   "metadata": {},
   "outputs": [
    {
     "data": {
      "image/png": "[encoded data removed]",
      "text/plain": [
       "<Figure size 432x288 with 1 Axes>"
      ]
     },
     "metadata": {},
     "output_type": "display_data"
    }
   ],
   "source": [
    "#Occupation\n",
    "train_df1['Occupation'].value_counts().plot.pie(autopct='%.1f%%')\n",
    "plt.title(\"Distribution of Occupations\")\n",
    "plt.show() "
   ]
  },
  {
   "cell_type": "markdown",
   "id": "93fe3fcb",
   "metadata": {},
   "source": [
    "**From the above graph, we can see that most of the customers are Journalist(8%).**"
   ]
  },
  {
   "cell_type": "code",
   "execution_count": 20,
   "id": "5523104d",
   "metadata": {},
   "outputs": [
    {
     "data": {
      "image/png": "[encoded data removed]",
      "text/plain": [
       "<Figure size 432x288 with 1 Axes>"
      ]
     },
     "metadata": {
      "needs_background": "light"
     },
     "output_type": "display_data"
    }
   ],
   "source": [
    "#Monthly Inhand Salary\n",
    "sns.histplot(train_df1['Monthly_Inhand_Salary'], color='darkgreen')\n",
    "plt.title('Distribution of Monthly Inhand Salary')\n",
    "plt.show()"
   ]
  },
  {
   "cell_type": "markdown",
   "id": "737144cc",
   "metadata": {},
   "source": [
    "**The inhand salary distribution is right-skewed. Mean > median. Most of the customers have inhand salary in the range of 1000-5000 dollars.**"
   ]
  },
  {
   "cell_type": "code",
   "execution_count": 21,
   "id": "4db6347a",
   "metadata": {},
   "outputs": [
    {
     "data": {
      "image/png": "[encoded data removed]",
      "text/plain": [
       "<Figure size 432x288 with 1 Axes>"
      ]
     },
     "metadata": {
      "needs_background": "light"
     },
     "output_type": "display_data"
    }
   ],
   "source": [
    "#Delay from Due date\n",
    "sns.histplot(train_df1['Delay_from_due_date'], kde=True,color='violet')\n",
    "plt.title('Distribution of Delay from Due date')\n",
    "plt.show()"
   ]
  },
  {
   "cell_type": "code",
   "execution_count": 22,
   "id": "0c312676",
   "metadata": {},
   "outputs": [
    {
     "data": {
      "text/plain": [
       "14.0    349\n",
       "13.0    314\n",
       "9.0     279\n",
       "27.0    269\n",
       "10.0    268\n",
       "       ... \n",
       "45.0     34\n",
       "50.0     33\n",
       "37.0     28\n",
       "56.0     21\n",
       "58.0     20\n",
       "Name: Delay_from_due_date, Length: 63, dtype: int64"
      ]
     },
     "execution_count": 22,
     "metadata": {},
     "output_type": "execute_result"
    }
   ],
   "source": [
    "train_df1.Delay_from_due_date.value_counts()"
   ]
  },
  {
   "cell_type": "markdown",
   "id": "e9050612",
   "metadata": {},
   "source": [
    "**Majority of customers did payment after due date.Only few paid before the due date (-ve values). KDE (Kernel Density Estimate) - A smooth curve showing continuous probability density. \n",
    "Maximum count at 14**"
   ]
  },
  {
   "cell_type": "code",
   "execution_count": 23,
   "id": "4f1f0927",
   "metadata": {},
   "outputs": [
    {
     "data": {
      "image/png": "[encoded data removed]",
      "text/plain": [
       "<Figure size 432x288 with 1 Axes>"
      ]
     },
     "metadata": {},
     "output_type": "display_data"
    }
   ],
   "source": [
    "# check if only the minimum amount was paid \n",
    "train_df1['Payment_of_Min_Amount'].value_counts().plot.pie(autopct='%.2f%%')\n",
    "plt.title(\"Distribution of Payment of Minimum Amount\")\n",
    "plt.show() "
   ]
  },
  {
   "cell_type": "markdown",
   "id": "644ffe17",
   "metadata": {},
   "source": [
    "**Most of the Customers (more than 50%), paid only the minimum amount.**"
   ]
  },
  {
   "cell_type": "code",
   "execution_count": 24,
   "id": "20324c05",
   "metadata": {},
   "outputs": [
    {
     "data": {
      "image/png": "[encoded data removed]",
      "text/plain": [
       "<Figure size 432x288 with 1 Axes>"
      ]
     },
     "metadata": {
      "needs_background": "light"
     },
     "output_type": "display_data"
    }
   ],
   "source": [
    "#different types of credit accounts of a customer, shows the ability to handle multiple credits\n",
    "sns.countplot(x= train_df1['Credit_Mix'], palette=\"YlOrBr\") \n",
    "plt.title(\"Distribution of Credit Mixes\")\n",
    "plt.show()"
   ]
  },
  {
   "cell_type": "markdown",
   "id": "600cf69f",
   "metadata": {},
   "source": [
    "**Majority of credit mix type is standard.**"
   ]
  },
  {
   "cell_type": "code",
   "execution_count": 25,
   "id": "6518e500",
   "metadata": {},
   "outputs": [
    {
     "data": {
      "image/png": "[encoded data removed]",
      "text/plain": [
       "<Figure size 432x288 with 1 Axes>"
      ]
     },
     "metadata": {
      "needs_background": "light"
     },
     "output_type": "display_data"
    }
   ],
   "source": [
    "#Outstanding Debt\n",
    "sns.histplot(train_df1['Outstanding_Debt'], kde=True, color='orangered') # debt left to be paid\n",
    "plt.title('Distribution of Outstanding Debt')\n",
    "plt.show()"
   ]
  },
  {
   "cell_type": "markdown",
   "id": "2f6a122c",
   "metadata": {},
   "source": [
    "**The distribution is skewed to the right. Most people have less amount of debt left to be paid.**"
   ]
  },
  {
   "cell_type": "code",
   "execution_count": 26,
   "id": "4d31c583",
   "metadata": {},
   "outputs": [
    {
     "data": {
      "image/png": "[encoded data removed]",
      "text/plain": [
       "<Figure size 432x288 with 1 Axes>"
      ]
     },
     "metadata": {
      "needs_background": "light"
     },
     "output_type": "display_data"
    }
   ],
   "source": [
    "#Credit Scores\n",
    "sns.countplot(x= train_df1['Credit_Score'],palette=\"YlOrBr\")\n",
    "plt.title('Distribution of Credit Scores')\n",
    "plt.show()"
   ]
  },
  {
   "cell_type": "markdown",
   "id": "56d31374",
   "metadata": {},
   "source": [
    "**There is an uneven distribution of target column values.**"
   ]
  },
  {
   "cell_type": "markdown",
   "id": "4a0f0e74",
   "metadata": {},
   "source": [
    "## Bivariate Analysis"
   ]
  },
  {
   "cell_type": "code",
   "execution_count": 27,
   "id": "a559088b",
   "metadata": {},
   "outputs": [
    {
     "data": {
      "image/png": "[encoded data removed]",
      "text/plain": [
       "<Figure size 432x288 with 1 Axes>"
      ]
     },
     "metadata": {
      "needs_background": "light"
     },
     "output_type": "display_data"
    }
   ],
   "source": [
    "# Annual_Income vs credit score\n",
    "sns.barplot(x=train_df1['Annual_Income'], y=train_df1['Credit_Score'])\n",
    "plt.title('Annual Income vs Credit Score')\n",
    "plt.show()"
   ]
  },
  {
   "cell_type": "markdown",
   "id": "391d7ce1",
   "metadata": {},
   "source": [
    "**Customers with higher annual income tend to have better credit scores.**"
   ]
  },
  {
   "cell_type": "code",
   "execution_count": 28,
   "id": "dea9645d",
   "metadata": {},
   "outputs": [
    {
     "data": {
      "image/png": "[encoded data removed]",
      "text/plain": [
       "<Figure size 432x288 with 1 Axes>"
      ]
     },
     "metadata": {
      "needs_background": "light"
     },
     "output_type": "display_data"
    }
   ],
   "source": [
    "# Monthly_Inhand_Salary vs credit scores\n",
    "sns.boxplot(y=train_df1['Credit_Score'], x=train_df1['Monthly_Inhand_Salary'])\n",
    "plt.title('Monthly Inhand Salary vs Credit Score')\n",
    "plt.show()"
   ]
  },
  {
   "cell_type": "markdown",
   "id": "f29c9d5b",
   "metadata": {},
   "source": [
    "**The distribution is right skewed(mean>median) for all three credit scorers.Customers with higher monthly inhand salary are showing better credit scores**"
   ]
  },
  {
   "cell_type": "code",
   "execution_count": 29,
   "id": "8a37d871",
   "metadata": {},
   "outputs": [
    {
     "data": {
      "image/png": "[encoded data removed]",
      "text/plain": [
       "<Figure size 432x288 with 1 Axes>"
      ]
     },
     "metadata": {
      "needs_background": "light"
     },
     "output_type": "display_data"
    }
   ],
   "source": [
    "# Delay_from_due_date vs credit score\n",
    "sns.barplot(y=train_df1['Credit_Score'], x=train_df1['Delay_from_due_date'])\n",
    "plt.title('Delay from due date vs Credit Score')\n",
    "plt.show()"
   ]
  },
  {
   "cell_type": "markdown",
   "id": "95d0e3f5",
   "metadata": {},
   "source": [
    "**Credit scores get 'poorer' as delay_from_due_date increases.**"
   ]
  },
  {
   "cell_type": "code",
   "execution_count": 30,
   "id": "3209ca9b",
   "metadata": {},
   "outputs": [
    {
     "name": "stdout",
     "output_type": "stream",
     "text": [
      "Credit_Score  Good  Poor  Standard\n",
      "Credit_Mix                        \n",
      "Bad             26  1161       757\n",
      "Good          1256   420       820\n",
      "Standard       211   779      2570\n"
     ]
    },
    {
     "data": {
      "image/png": "[encoded data removed]",
      "text/plain": [
       "<Figure size 432x288 with 2 Axes>"
      ]
     },
     "metadata": {
      "needs_background": "light"
     },
     "output_type": "display_data"
    }
   ],
   "source": [
    "# Credit_Mix vs Credit scores\n",
    "cat_var = pd.crosstab(train_df1.Credit_Mix, train_df1.Credit_Score)\n",
    "print(cat_var)\n",
    "sns.heatmap(cat_var, annot=True,fmt='.4g',cmap='Blues')\n",
    "plt.title('Credit Mix vs Credit Score')\n",
    "plt.show()"
   ]
  },
  {
   "cell_type": "markdown",
   "id": "4580410a",
   "metadata": {},
   "source": [
    "**Customers with better credit mix, shows better credit scores.**"
   ]
  },
  {
   "cell_type": "code",
   "execution_count": 31,
   "id": "7e26acca",
   "metadata": {},
   "outputs": [
    {
     "data": {
      "image/png": "[encoded data removed]",
      "text/plain": [
       "<Figure size 432x288 with 1 Axes>"
      ]
     },
     "metadata": {
      "needs_background": "light"
     },
     "output_type": "display_data"
    }
   ],
   "source": [
    "#Credit_Utilization_Ratio vs Credit score\n",
    "sns.boxplot(y=train_df1['Credit_Utilization_Ratio'], x=train_df1['Credit_Score'])\n",
    "plt.title('Credit Utilization Ratio vs Credit Score')\n",
    "plt.show()"
   ]
  },
  {
   "cell_type": "markdown",
   "id": "4081c4c0",
   "metadata": {},
   "source": [
    "**Credit Utilization ratio distribution is almost even for good and standard credit scorers.But, the range is slightly lower for poor category.Up to a range increase in Credit Utilization ratio is good for better credit score. Beyond limit, credit utilization negatively affects credit score.**"
   ]
  },
  {
   "cell_type": "code",
   "execution_count": 32,
   "id": "67bfa6c7",
   "metadata": {},
   "outputs": [
    {
     "data": {
      "image/png": "[encoded data removed]",
      "text/plain": [
       "<Figure size 1080x360 with 3 Axes>"
      ]
     },
     "metadata": {
      "needs_background": "light"
     },
     "output_type": "display_data"
    }
   ],
   "source": [
    "### Distribution of Payment_of_Min_Amount for each Credit Score\n",
    "\n",
    "sns.catplot(x= 'Payment_of_Min_Amount', col= 'Credit_Score', data = train_df1, kind = 'count', col_wrap = 3)\n",
    "plt.show()"
   ]
  },
  {
   "cell_type": "markdown",
   "id": "3b085448",
   "metadata": {},
   "source": [
    "**Most of the Customers with poor and standard credit scores did only the minimum payment. Most of the customers with good credits scores, did more than the minimum payment.From the above graphs, we can see that the most of the customers with a good credit score didn't pay the minimum amount for the loan.**"
   ]
  },
  {
   "cell_type": "code",
   "execution_count": 33,
   "id": "75da3223",
   "metadata": {},
   "outputs": [
    {
     "data": {
      "image/png": "[encoded data removed]",
      "text/plain": [
       "<Figure size 432x288 with 1 Axes>"
      ]
     },
     "metadata": {
      "needs_background": "light"
     },
     "output_type": "display_data"
    }
   ],
   "source": [
    "#Total_EMI_per_month vs credit scores\n",
    "sns.barplot(x=train_df1['Total_EMI_per_month'], y=train_df1['Credit_Score'])\n",
    "plt.title('Total EMI per month vs Credit Score')\n",
    "plt.show()"
   ]
  },
  {
   "cell_type": "markdown",
   "id": "0a548345",
   "metadata": {},
   "source": [
    "**Customers that paid higher EMI tend to have better credit scores.**"
   ]
  },
  {
   "cell_type": "code",
   "execution_count": 34,
   "id": "bcc75cad",
   "metadata": {},
   "outputs": [
    {
     "data": {
      "text/html": [
       "<div>\n",
       "<style scoped>\n",
       "    .dataframe tbody tr th:only-of-type {\n",
       "        vertical-align: middle;\n",
       "    }\n",
       "\n",
       "    .dataframe tbody tr th {\n",
       "        vertical-align: top;\n",
       "    }\n",
       "\n",
       "    .dataframe thead th {\n",
       "        text-align: right;\n",
       "    }\n",
       "</style>\n",
       "<table border=\"1\" class=\"dataframe\">\n",
       "  <thead>\n",
       "    <tr style=\"text-align: right;\">\n",
       "      <th></th>\n",
       "      <th>Customer_ID</th>\n",
       "      <th>Month</th>\n",
       "      <th>Age</th>\n",
       "      <th>Occupation</th>\n",
       "      <th>Annual_Income</th>\n",
       "      <th>Monthly_Inhand_Salary</th>\n",
       "      <th>Num_Bank_Accounts</th>\n",
       "      <th>Num_Credit_Card</th>\n",
       "      <th>Interest_Rate</th>\n",
       "      <th>Num_of_Loan</th>\n",
       "      <th>...</th>\n",
       "      <th>Credit_Mix</th>\n",
       "      <th>Outstanding_Debt</th>\n",
       "      <th>Credit_Utilization_Ratio</th>\n",
       "      <th>Credit_History_Age</th>\n",
       "      <th>Payment_of_Min_Amount</th>\n",
       "      <th>Total_EMI_per_month</th>\n",
       "      <th>Amount_invested_monthly</th>\n",
       "      <th>Payment_Behaviour</th>\n",
       "      <th>Monthly_Balance</th>\n",
       "      <th>Credit_Score</th>\n",
       "    </tr>\n",
       "  </thead>\n",
       "  <tbody>\n",
       "    <tr>\n",
       "      <th>0</th>\n",
       "      <td>3392</td>\n",
       "      <td>1</td>\n",
       "      <td>23.0</td>\n",
       "      <td>Scientist</td>\n",
       "      <td>19114.12</td>\n",
       "      <td>1824.843333</td>\n",
       "      <td>3.0</td>\n",
       "      <td>4.0</td>\n",
       "      <td>3.0</td>\n",
       "      <td>4.0</td>\n",
       "      <td>...</td>\n",
       "      <td>Good</td>\n",
       "      <td>809.98</td>\n",
       "      <td>26.822620</td>\n",
       "      <td>265.0</td>\n",
       "      <td>No</td>\n",
       "      <td>49.574949</td>\n",
       "      <td>21.465380</td>\n",
       "      <td>High_spent_Small_value_payments</td>\n",
       "      <td>312.494089</td>\n",
       "      <td>Good</td>\n",
       "    </tr>\n",
       "    <tr>\n",
       "      <th>1</th>\n",
       "      <td>3392</td>\n",
       "      <td>2</td>\n",
       "      <td>23.0</td>\n",
       "      <td>Scientist</td>\n",
       "      <td>19114.12</td>\n",
       "      <td>1824.843333</td>\n",
       "      <td>3.0</td>\n",
       "      <td>4.0</td>\n",
       "      <td>3.0</td>\n",
       "      <td>4.0</td>\n",
       "      <td>...</td>\n",
       "      <td>Good</td>\n",
       "      <td>809.98</td>\n",
       "      <td>31.944960</td>\n",
       "      <td>266.0</td>\n",
       "      <td>No</td>\n",
       "      <td>49.574949</td>\n",
       "      <td>21.465380</td>\n",
       "      <td>Low_spent_Large_value_payments</td>\n",
       "      <td>284.629162</td>\n",
       "      <td>Good</td>\n",
       "    </tr>\n",
       "    <tr>\n",
       "      <th>2</th>\n",
       "      <td>3392</td>\n",
       "      <td>3</td>\n",
       "      <td>23.0</td>\n",
       "      <td>Scientist</td>\n",
       "      <td>19114.12</td>\n",
       "      <td>1824.843333</td>\n",
       "      <td>3.0</td>\n",
       "      <td>4.0</td>\n",
       "      <td>3.0</td>\n",
       "      <td>4.0</td>\n",
       "      <td>...</td>\n",
       "      <td>Good</td>\n",
       "      <td>809.98</td>\n",
       "      <td>28.609352</td>\n",
       "      <td>267.0</td>\n",
       "      <td>No</td>\n",
       "      <td>49.574949</td>\n",
       "      <td>21.465380</td>\n",
       "      <td>Low_spent_Medium_value_payments</td>\n",
       "      <td>331.209863</td>\n",
       "      <td>Good</td>\n",
       "    </tr>\n",
       "    <tr>\n",
       "      <th>3</th>\n",
       "      <td>3392</td>\n",
       "      <td>4</td>\n",
       "      <td>23.0</td>\n",
       "      <td>Scientist</td>\n",
       "      <td>19114.12</td>\n",
       "      <td>1824.843333</td>\n",
       "      <td>3.0</td>\n",
       "      <td>4.0</td>\n",
       "      <td>3.0</td>\n",
       "      <td>4.0</td>\n",
       "      <td>...</td>\n",
       "      <td>Good</td>\n",
       "      <td>809.98</td>\n",
       "      <td>31.377862</td>\n",
       "      <td>268.0</td>\n",
       "      <td>No</td>\n",
       "      <td>49.574949</td>\n",
       "      <td>21.465380</td>\n",
       "      <td>Low_spent_Small_value_payments</td>\n",
       "      <td>223.451310</td>\n",
       "      <td>Good</td>\n",
       "    </tr>\n",
       "    <tr>\n",
       "      <th>4</th>\n",
       "      <td>3392</td>\n",
       "      <td>5</td>\n",
       "      <td>23.0</td>\n",
       "      <td>Scientist</td>\n",
       "      <td>19114.12</td>\n",
       "      <td>1824.843333</td>\n",
       "      <td>3.0</td>\n",
       "      <td>4.0</td>\n",
       "      <td>3.0</td>\n",
       "      <td>4.0</td>\n",
       "      <td>...</td>\n",
       "      <td>Good</td>\n",
       "      <td>809.98</td>\n",
       "      <td>24.797347</td>\n",
       "      <td>269.0</td>\n",
       "      <td>No</td>\n",
       "      <td>49.574949</td>\n",
       "      <td>21.465380</td>\n",
       "      <td>High_spent_Medium_value_payments</td>\n",
       "      <td>341.489231</td>\n",
       "      <td>Good</td>\n",
       "    </tr>\n",
       "    <tr>\n",
       "      <th>5</th>\n",
       "      <td>3392</td>\n",
       "      <td>6</td>\n",
       "      <td>23.0</td>\n",
       "      <td>Scientist</td>\n",
       "      <td>19114.12</td>\n",
       "      <td>1824.843333</td>\n",
       "      <td>3.0</td>\n",
       "      <td>4.0</td>\n",
       "      <td>3.0</td>\n",
       "      <td>4.0</td>\n",
       "      <td>...</td>\n",
       "      <td>Good</td>\n",
       "      <td>809.98</td>\n",
       "      <td>27.262259</td>\n",
       "      <td>270.0</td>\n",
       "      <td>No</td>\n",
       "      <td>49.574949</td>\n",
       "      <td>21.465380</td>\n",
       "      <td>High_spent_Medium_value_payments</td>\n",
       "      <td>340.479212</td>\n",
       "      <td>Good</td>\n",
       "    </tr>\n",
       "    <tr>\n",
       "      <th>6</th>\n",
       "      <td>3392</td>\n",
       "      <td>7</td>\n",
       "      <td>23.0</td>\n",
       "      <td>Scientist</td>\n",
       "      <td>19114.12</td>\n",
       "      <td>1824.843333</td>\n",
       "      <td>3.0</td>\n",
       "      <td>4.0</td>\n",
       "      <td>3.0</td>\n",
       "      <td>4.0</td>\n",
       "      <td>...</td>\n",
       "      <td>Good</td>\n",
       "      <td>809.98</td>\n",
       "      <td>22.537593</td>\n",
       "      <td>271.0</td>\n",
       "      <td>No</td>\n",
       "      <td>49.574949</td>\n",
       "      <td>21.465380</td>\n",
       "      <td>Low_spent_Small_value_payments</td>\n",
       "      <td>244.565317</td>\n",
       "      <td>Good</td>\n",
       "    </tr>\n",
       "    <tr>\n",
       "      <th>7</th>\n",
       "      <td>3392</td>\n",
       "      <td>8</td>\n",
       "      <td>23.0</td>\n",
       "      <td>Scientist</td>\n",
       "      <td>19114.12</td>\n",
       "      <td>1824.843333</td>\n",
       "      <td>3.0</td>\n",
       "      <td>4.0</td>\n",
       "      <td>3.0</td>\n",
       "      <td>4.0</td>\n",
       "      <td>...</td>\n",
       "      <td>Good</td>\n",
       "      <td>809.98</td>\n",
       "      <td>23.933795</td>\n",
       "      <td>272.0</td>\n",
       "      <td>No</td>\n",
       "      <td>49.574949</td>\n",
       "      <td>21.465380</td>\n",
       "      <td>High_spent_Medium_value_payments</td>\n",
       "      <td>358.124168</td>\n",
       "      <td>Standard</td>\n",
       "    </tr>\n",
       "    <tr>\n",
       "      <th>8</th>\n",
       "      <td>8625</td>\n",
       "      <td>1</td>\n",
       "      <td>28.0</td>\n",
       "      <td>Teacher</td>\n",
       "      <td>34847.84</td>\n",
       "      <td>3037.986667</td>\n",
       "      <td>2.0</td>\n",
       "      <td>4.0</td>\n",
       "      <td>6.0</td>\n",
       "      <td>1.0</td>\n",
       "      <td>...</td>\n",
       "      <td>Good</td>\n",
       "      <td>605.03</td>\n",
       "      <td>24.464031</td>\n",
       "      <td>319.0</td>\n",
       "      <td>No</td>\n",
       "      <td>18.816215</td>\n",
       "      <td>39.684018</td>\n",
       "      <td>Low_spent_Small_value_payments</td>\n",
       "      <td>470.690627</td>\n",
       "      <td>Standard</td>\n",
       "    </tr>\n",
       "    <tr>\n",
       "      <th>9</th>\n",
       "      <td>8625</td>\n",
       "      <td>2</td>\n",
       "      <td>28.0</td>\n",
       "      <td>Teacher</td>\n",
       "      <td>34847.84</td>\n",
       "      <td>3037.986667</td>\n",
       "      <td>2.0</td>\n",
       "      <td>4.0</td>\n",
       "      <td>6.0</td>\n",
       "      <td>1.0</td>\n",
       "      <td>...</td>\n",
       "      <td>Good</td>\n",
       "      <td>605.03</td>\n",
       "      <td>38.550848</td>\n",
       "      <td>320.0</td>\n",
       "      <td>No</td>\n",
       "      <td>18.816215</td>\n",
       "      <td>39.684018</td>\n",
       "      <td>High_spent_Large_value_payments</td>\n",
       "      <td>484.591214</td>\n",
       "      <td>Good</td>\n",
       "    </tr>\n",
       "    <tr>\n",
       "      <th>10</th>\n",
       "      <td>8625</td>\n",
       "      <td>3</td>\n",
       "      <td>28.0</td>\n",
       "      <td>Teacher</td>\n",
       "      <td>34847.84</td>\n",
       "      <td>3037.986667</td>\n",
       "      <td>2.0</td>\n",
       "      <td>4.0</td>\n",
       "      <td>6.0</td>\n",
       "      <td>1.0</td>\n",
       "      <td>...</td>\n",
       "      <td>Good</td>\n",
       "      <td>605.03</td>\n",
       "      <td>33.224951</td>\n",
       "      <td>321.0</td>\n",
       "      <td>No</td>\n",
       "      <td>18.816215</td>\n",
       "      <td>39.684018</td>\n",
       "      <td>High_spent_Large_value_payments</td>\n",
       "      <td>466.466476</td>\n",
       "      <td>Standard</td>\n",
       "    </tr>\n",
       "    <tr>\n",
       "      <th>11</th>\n",
       "      <td>8625</td>\n",
       "      <td>4</td>\n",
       "      <td>28.0</td>\n",
       "      <td>Teacher</td>\n",
       "      <td>34847.84</td>\n",
       "      <td>3037.986667</td>\n",
       "      <td>2.0</td>\n",
       "      <td>4.0</td>\n",
       "      <td>6.0</td>\n",
       "      <td>1.0</td>\n",
       "      <td>...</td>\n",
       "      <td>Good</td>\n",
       "      <td>605.03</td>\n",
       "      <td>39.182656</td>\n",
       "      <td>322.0</td>\n",
       "      <td>No</td>\n",
       "      <td>18.816215</td>\n",
       "      <td>39.684018</td>\n",
       "      <td>Low_spent_Medium_value_payments</td>\n",
       "      <td>465.676224</td>\n",
       "      <td>Good</td>\n",
       "    </tr>\n",
       "    <tr>\n",
       "      <th>12</th>\n",
       "      <td>8625</td>\n",
       "      <td>5</td>\n",
       "      <td>28.0</td>\n",
       "      <td>Teacher</td>\n",
       "      <td>34847.84</td>\n",
       "      <td>3037.986667</td>\n",
       "      <td>2.0</td>\n",
       "      <td>4.0</td>\n",
       "      <td>6.0</td>\n",
       "      <td>1.0</td>\n",
       "      <td>...</td>\n",
       "      <td>Good</td>\n",
       "      <td>605.03</td>\n",
       "      <td>34.977895</td>\n",
       "      <td>323.0</td>\n",
       "      <td>No</td>\n",
       "      <td>18.816215</td>\n",
       "      <td>39.684018</td>\n",
       "      <td>Low_spent_Small_value_payments</td>\n",
       "      <td>444.867032</td>\n",
       "      <td>Good</td>\n",
       "    </tr>\n",
       "    <tr>\n",
       "      <th>13</th>\n",
       "      <td>8625</td>\n",
       "      <td>6</td>\n",
       "      <td>28.0</td>\n",
       "      <td>Teacher</td>\n",
       "      <td>34847.84</td>\n",
       "      <td>3037.986667</td>\n",
       "      <td>2.0</td>\n",
       "      <td>4.0</td>\n",
       "      <td>6.0</td>\n",
       "      <td>1.0</td>\n",
       "      <td>...</td>\n",
       "      <td>Good</td>\n",
       "      <td>605.03</td>\n",
       "      <td>33.381010</td>\n",
       "      <td>324.0</td>\n",
       "      <td>No</td>\n",
       "      <td>18.816215</td>\n",
       "      <td>39.684018</td>\n",
       "      <td>High_spent_Large_value_payments</td>\n",
       "      <td>481.505262</td>\n",
       "      <td>Good</td>\n",
       "    </tr>\n",
       "    <tr>\n",
       "      <th>14</th>\n",
       "      <td>8625</td>\n",
       "      <td>7</td>\n",
       "      <td>28.0</td>\n",
       "      <td>Teacher</td>\n",
       "      <td>34847.84</td>\n",
       "      <td>3037.986667</td>\n",
       "      <td>2.0</td>\n",
       "      <td>4.0</td>\n",
       "      <td>6.0</td>\n",
       "      <td>1.0</td>\n",
       "      <td>...</td>\n",
       "      <td>Good</td>\n",
       "      <td>605.03</td>\n",
       "      <td>31.131702</td>\n",
       "      <td>325.0</td>\n",
       "      <td>NM</td>\n",
       "      <td>18.816215</td>\n",
       "      <td>39.684018</td>\n",
       "      <td>High_spent_Medium_value_payments</td>\n",
       "      <td>464.880678</td>\n",
       "      <td>Good</td>\n",
       "    </tr>\n",
       "  </tbody>\n",
       "</table>\n",
       "<p>15 rows × 25 columns</p>\n",
       "</div>"
      ],
      "text/plain": [
       "    Customer_ID  Month   Age Occupation  Annual_Income  Monthly_Inhand_Salary  \\\n",
       "0          3392      1  23.0  Scientist       19114.12            1824.843333   \n",
       "1          3392      2  23.0  Scientist       19114.12            1824.843333   \n",
       "2          3392      3  23.0  Scientist       19114.12            1824.843333   \n",
       "3          3392      4  23.0  Scientist       19114.12            1824.843333   \n",
       "4          3392      5  23.0  Scientist       19114.12            1824.843333   \n",
       "5          3392      6  23.0  Scientist       19114.12            1824.843333   \n",
       "6          3392      7  23.0  Scientist       19114.12            1824.843333   \n",
       "7          3392      8  23.0  Scientist       19114.12            1824.843333   \n",
       "8          8625      1  28.0    Teacher       34847.84            3037.986667   \n",
       "9          8625      2  28.0    Teacher       34847.84            3037.986667   \n",
       "10         8625      3  28.0    Teacher       34847.84            3037.986667   \n",
       "11         8625      4  28.0    Teacher       34847.84            3037.986667   \n",
       "12         8625      5  28.0    Teacher       34847.84            3037.986667   \n",
       "13         8625      6  28.0    Teacher       34847.84            3037.986667   \n",
       "14         8625      7  28.0    Teacher       34847.84            3037.986667   \n",
       "\n",
       "    Num_Bank_Accounts  Num_Credit_Card  Interest_Rate  Num_of_Loan  ...  \\\n",
       "0                 3.0              4.0            3.0          4.0  ...   \n",
       "1                 3.0              4.0            3.0          4.0  ...   \n",
       "2                 3.0              4.0            3.0          4.0  ...   \n",
       "3                 3.0              4.0            3.0          4.0  ...   \n",
       "4                 3.0              4.0            3.0          4.0  ...   \n",
       "5                 3.0              4.0            3.0          4.0  ...   \n",
       "6                 3.0              4.0            3.0          4.0  ...   \n",
       "7                 3.0              4.0            3.0          4.0  ...   \n",
       "8                 2.0              4.0            6.0          1.0  ...   \n",
       "9                 2.0              4.0            6.0          1.0  ...   \n",
       "10                2.0              4.0            6.0          1.0  ...   \n",
       "11                2.0              4.0            6.0          1.0  ...   \n",
       "12                2.0              4.0            6.0          1.0  ...   \n",
       "13                2.0              4.0            6.0          1.0  ...   \n",
       "14                2.0              4.0            6.0          1.0  ...   \n",
       "\n",
       "   Credit_Mix  Outstanding_Debt  Credit_Utilization_Ratio  Credit_History_Age  \\\n",
       "0        Good            809.98                 26.822620               265.0   \n",
       "1        Good            809.98                 31.944960               266.0   \n",
       "2        Good            809.98                 28.609352               267.0   \n",
       "3        Good            809.98                 31.377862               268.0   \n",
       "4        Good            809.98                 24.797347               269.0   \n",
       "5        Good            809.98                 27.262259               270.0   \n",
       "6        Good            809.98                 22.537593               271.0   \n",
       "7        Good            809.98                 23.933795               272.0   \n",
       "8        Good            605.03                 24.464031               319.0   \n",
       "9        Good            605.03                 38.550848               320.0   \n",
       "10       Good            605.03                 33.224951               321.0   \n",
       "11       Good            605.03                 39.182656               322.0   \n",
       "12       Good            605.03                 34.977895               323.0   \n",
       "13       Good            605.03                 33.381010               324.0   \n",
       "14       Good            605.03                 31.131702               325.0   \n",
       "\n",
       "    Payment_of_Min_Amount Total_EMI_per_month  Amount_invested_monthly  \\\n",
       "0                      No           49.574949                21.465380   \n",
       "1                      No           49.574949                21.465380   \n",
       "2                      No           49.574949                21.465380   \n",
       "3                      No           49.574949                21.465380   \n",
       "4                      No           49.574949                21.465380   \n",
       "5                      No           49.574949                21.465380   \n",
       "6                      No           49.574949                21.465380   \n",
       "7                      No           49.574949                21.465380   \n",
       "8                      No           18.816215                39.684018   \n",
       "9                      No           18.816215                39.684018   \n",
       "10                     No           18.816215                39.684018   \n",
       "11                     No           18.816215                39.684018   \n",
       "12                     No           18.816215                39.684018   \n",
       "13                     No           18.816215                39.684018   \n",
       "14                     NM           18.816215                39.684018   \n",
       "\n",
       "                   Payment_Behaviour  Monthly_Balance Credit_Score  \n",
       "0    High_spent_Small_value_payments       312.494089         Good  \n",
       "1     Low_spent_Large_value_payments       284.629162         Good  \n",
       "2    Low_spent_Medium_value_payments       331.209863         Good  \n",
       "3     Low_spent_Small_value_payments       223.451310         Good  \n",
       "4   High_spent_Medium_value_payments       341.489231         Good  \n",
       "5   High_spent_Medium_value_payments       340.479212         Good  \n",
       "6     Low_spent_Small_value_payments       244.565317         Good  \n",
       "7   High_spent_Medium_value_payments       358.124168     Standard  \n",
       "8     Low_spent_Small_value_payments       470.690627     Standard  \n",
       "9    High_spent_Large_value_payments       484.591214         Good  \n",
       "10   High_spent_Large_value_payments       466.466476     Standard  \n",
       "11   Low_spent_Medium_value_payments       465.676224         Good  \n",
       "12    Low_spent_Small_value_payments       444.867032         Good  \n",
       "13   High_spent_Large_value_payments       481.505262         Good  \n",
       "14  High_spent_Medium_value_payments       464.880678         Good  \n",
       "\n",
       "[15 rows x 25 columns]"
      ]
     },
     "execution_count": 34,
     "metadata": {},
     "output_type": "execute_result"
    }
   ],
   "source": [
    "train_df1.head(15)"
   ]
  },
  {
   "cell_type": "code",
   "execution_count": 35,
   "id": "461644bc",
   "metadata": {},
   "outputs": [
    {
     "data": {
      "text/plain": [
       "Customer_ID                   int64\n",
       "Month                         int64\n",
       "Age                         float64\n",
       "Occupation                   object\n",
       "Annual_Income               float64\n",
       "Monthly_Inhand_Salary       float64\n",
       "Num_Bank_Accounts           float64\n",
       "Num_Credit_Card             float64\n",
       "Interest_Rate               float64\n",
       "Num_of_Loan                 float64\n",
       "Type_of_Loan                 object\n",
       "Delay_from_due_date         float64\n",
       "Num_of_Delayed_Payment      float64\n",
       "Changed_Credit_Limit        float64\n",
       "Num_Credit_Inquiries        float64\n",
       "Credit_Mix                   object\n",
       "Outstanding_Debt            float64\n",
       "Credit_Utilization_Ratio    float64\n",
       "Credit_History_Age          float64\n",
       "Payment_of_Min_Amount        object\n",
       "Total_EMI_per_month         float64\n",
       "Amount_invested_monthly     float64\n",
       "Payment_Behaviour            object\n",
       "Monthly_Balance             float64\n",
       "Credit_Score                 object\n",
       "dtype: object"
      ]
     },
     "execution_count": 35,
     "metadata": {},
     "output_type": "execute_result"
    }
   ],
   "source": [
    "train_df1.dtypes"
   ]
  },
  {
   "cell_type": "code",
   "execution_count": 36,
   "id": "22d39493",
   "metadata": {},
   "outputs": [
    {
     "data": {
      "text/plain": [
       "Customer_ID                 0\n",
       "Changed_Credit_Limit        0\n",
       "Monthly_Balance             0\n",
       "Payment_Behaviour           0\n",
       "Amount_invested_monthly     0\n",
       "Total_EMI_per_month         0\n",
       "Payment_of_Min_Amount       0\n",
       "Credit_History_Age          0\n",
       "Credit_Utilization_Ratio    0\n",
       "Outstanding_Debt            0\n",
       "Credit_Mix                  0\n",
       "Num_Credit_Inquiries        0\n",
       "Num_of_Delayed_Payment      0\n",
       "Month                       0\n",
       "Delay_from_due_date         0\n",
       "Type_of_Loan                0\n",
       "Num_of_Loan                 0\n",
       "Interest_Rate               0\n",
       "Num_Credit_Card             0\n",
       "Num_Bank_Accounts           0\n",
       "Monthly_Inhand_Salary       0\n",
       "Annual_Income               0\n",
       "Occupation                  0\n",
       "Age                         0\n",
       "Credit_Score                0\n",
       "dtype: int64"
      ]
     },
     "execution_count": 36,
     "metadata": {},
     "output_type": "execute_result"
    }
   ],
   "source": [
    "train_df1.isna().sum().sort_values(ascending = False)"
   ]
  },
  {
   "cell_type": "code",
   "execution_count": 37,
   "id": "db09fa53",
   "metadata": {},
   "outputs": [
    {
     "data": {
      "text/plain": [
       "0"
      ]
     },
     "execution_count": 37,
     "metadata": {},
     "output_type": "execute_result"
    }
   ],
   "source": [
    "train_df1.isna().sum().sum()"
   ]
  },
  {
   "cell_type": "code",
   "execution_count": 38,
   "id": "3bab360a",
   "metadata": {},
   "outputs": [],
   "source": [
    "test_df = credit_df[:4000]"
   ]
  },
  {
   "cell_type": "code",
   "execution_count": 39,
   "id": "abb78b80",
   "metadata": {},
   "outputs": [
    {
     "data": {
      "text/plain": [
       "(4000, 28)"
      ]
     },
     "execution_count": 39,
     "metadata": {},
     "output_type": "execute_result"
    }
   ],
   "source": [
    "test_df.shape"
   ]
  },
  {
   "cell_type": "code",
   "execution_count": 40,
   "id": "7b092309",
   "metadata": {},
   "outputs": [
    {
     "data": {
      "text/plain": [
       "ID                          0\n",
       "Customer_ID                 0\n",
       "Month                       0\n",
       "Name                        0\n",
       "Age                         0\n",
       "SSN                         0\n",
       "Occupation                  0\n",
       "Annual_Income               0\n",
       "Monthly_Inhand_Salary       0\n",
       "Num_Bank_Accounts           0\n",
       "Num_Credit_Card             0\n",
       "Interest_Rate               0\n",
       "Num_of_Loan                 0\n",
       "Type_of_Loan                0\n",
       "Delay_from_due_date         0\n",
       "Num_of_Delayed_Payment      0\n",
       "Changed_Credit_Limit        0\n",
       "Num_Credit_Inquiries        0\n",
       "Credit_Mix                  0\n",
       "Outstanding_Debt            0\n",
       "Credit_Utilization_Ratio    0\n",
       "Credit_History_Age          0\n",
       "Payment_of_Min_Amount       0\n",
       "Total_EMI_per_month         0\n",
       "Amount_invested_monthly     0\n",
       "Payment_Behaviour           0\n",
       "Monthly_Balance             0\n",
       "Credit_Score                0\n",
       "dtype: int64"
      ]
     },
     "execution_count": 40,
     "metadata": {},
     "output_type": "execute_result"
    }
   ],
   "source": [
    "test_df.isna().sum()"
   ]
  },
  {
   "cell_type": "code",
   "execution_count": 41,
   "id": "1cb55038",
   "metadata": {},
   "outputs": [],
   "source": [
    "test_df1 = test_df.drop(['ID', 'Name', 'SSN'], axis=1)"
   ]
  },
  {
   "cell_type": "code",
   "execution_count": 42,
   "id": "bd7a9e48",
   "metadata": {},
   "outputs": [
    {
     "data": {
      "image/png": "[encoded data removed]",
      "text/plain": [
       "<Figure size 1440x1080 with 20 Axes>"
      ]
     },
     "metadata": {
      "needs_background": "light"
     },
     "output_type": "display_data"
    }
   ],
   "source": [
    "freqgraph = train_df1.select_dtypes(include = ['float'])\n",
    "freqgraph.hist(figsize =(20,15))\n",
    "plt.show()"
   ]
  },
  {
   "cell_type": "code",
   "execution_count": 43,
   "id": "6491fdfe",
   "metadata": {},
   "outputs": [],
   "source": [
    "#  drop, Num_Bank_Accounts, Type_of_Loan as they do not contribute to target\n",
    "\n",
    "train_df1.drop(['Num_Bank_Accounts','Type_of_Loan'],axis =1 , inplace = True )\n",
    "test_df1.drop(['Num_Bank_Accounts','Type_of_Loan'],axis =1 , inplace = True )"
   ]
  },
  {
   "cell_type": "code",
   "execution_count": null,
   "id": "1d176a4a",
   "metadata": {},
   "outputs": [],
   "source": []
  },
  {
   "cell_type": "code",
   "execution_count": null,
   "id": "5cfca0df",
   "metadata": {},
   "outputs": [],
   "source": []
  }
 ],
 "metadata": {
  "kernelspec": {
   "display_name": "Python 3 (ipykernel)",
   "language": "python",
   "name": "python3"
  },
  "language_info": {
   "codemirror_mode": {
    "name": "ipython",
    "version": 3
   },
   "file_extension": ".py",
   "mimetype": "text/x-python",
   "name": "python",
   "nbconvert_exporter": "python",
   "pygments_lexer": "ipython3",
   "version": "3.9.12"
  }
 },
 "nbformat": 4,
 "nbformat_minor": 5
}
